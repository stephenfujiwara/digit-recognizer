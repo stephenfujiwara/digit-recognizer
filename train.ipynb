{
 "cells": [
  {
   "cell_type": "code",
   "execution_count": 2,
   "metadata": {},
   "outputs": [],
   "source": [
    "import torch\n",
    "from torchvision import datasets, transforms\n",
    "from torch.utils.data import DataLoader"
   ]
  },
  {
   "cell_type": "code",
   "execution_count": 11,
   "metadata": {},
   "outputs": [],
   "source": [
    "# transformations to be applied to raw data\n",
    "# converts (PIL, target) to (tensor, target)\n",
    "transform = transforms.Compose([\n",
    "    transforms.ToTensor(), \n",
    "])\n",
    "\n",
    "# load datsets from Internet\n",
    "trainset = datasets.MNIST(root='./data', train=True, download=True, transform=transform)\n",
    "testset = datasets.MNIST(root='./data', train=False, download=True, transform=transform)\n",
    "\n",
    "# provide an iterable over datasets\n",
    "trainloader = DataLoader(dataset=trainset, batch_size=32, shuffle=True)\n",
    "testloader = DataLoader(dataset=testset, batch_size=32, shuffle=True)"
   ]
  },
  {
   "cell_type": "code",
   "execution_count": 7,
   "metadata": {},
   "outputs": [],
   "source": [
    "# model sucks on binary for some reason, create custom Transform object to binarize images\n",
    "\n",
    "class Binarize():\n",
    "    def __call__(self, sample):\n",
    "        return (sample > 0.5).float()\n",
    "\n",
    "transform = transforms.Compose([\n",
    "    transforms.ToTensor(), \n",
    "    Binarize()\n",
    "])\n",
    "\n",
    "# load datsets from Internet\n",
    "b_trainset = datasets.MNIST(root='./binarized', train=True, download=True, transform=transform)\n",
    "b_testset = datasets.MNIST(root='./binarized', train=False, download=True, transform=transform)\n",
    "\n",
    "b_trainloader = DataLoader(dataset=b_trainset, batch_size=32, shuffle=True)\n",
    "b_testloader = DataLoader(dataset=b_testset, batch_size=32, shuffle=True)"
   ]
  },
  {
   "cell_type": "code",
   "execution_count": 23,
   "metadata": {},
   "outputs": [
    {
     "data": {
      "image/png": "[encoded data removed]",
      "text/plain": [
       "<Figure size 432x288 with 1 Axes>"
      ]
     },
     "metadata": {
      "needs_background": "light"
     },
     "output_type": "display_data"
    },
    {
     "data": {
      "image/png": "[encoded data removed]",
      "text/plain": [
       "<Figure size 432x288 with 1 Axes>"
      ]
     },
     "metadata": {
      "needs_background": "light"
     },
     "output_type": "display_data"
    }
   ],
   "source": [
    "import matplotlib.pyplot as plt\n",
    "\n",
    "plt.imshow(trainset[3][0].squeeze(), cmap='gray')\n",
    "plt.show()\n",
    "plt.imshow(b_trainset[3][0].squeeze(), cmap='gray')\n",
    "plt.show()"
   ]
  },
  {
   "cell_type": "code",
   "execution_count": 16,
   "metadata": {},
   "outputs": [],
   "source": [
    "import torch.nn as nn\n",
    "import torch.nn.functional as F\n",
    "\n",
    "class BobNet(nn.Module):\n",
    "    def __init__(self):\n",
    "        super().__init__()\n",
    "        self.fc1 = nn.Linear(784, 128)\n",
    "        self.fc2 = nn.Linear(128, 128)\n",
    "        self.fc3 = nn.Linear(128, 10)\n",
    "    \n",
    "    def forward(self, x):\n",
    "        # flatten all dimensions, except the batch dimension.\n",
    "        x = torch.flatten(x, start_dim=1)\n",
    "        x = self.fc1(x)\n",
    "        x = F.relu(x)\n",
    "        x = self.fc2(x)\n",
    "        x = F.relu(x)\n",
    "        x = self.fc3(x)\n",
    "        # process output of net into probabilities\n",
    "        out = F.log_softmax(x, dim=1)\n",
    "        return out\n",
    "\n",
    "model = BobNet()"
   ]
  },
  {
   "cell_type": "code",
   "execution_count": 17,
   "metadata": {},
   "outputs": [],
   "source": [
    "import torch.optim as optim\n",
    "\n",
    "optimizer = optim.SGD(params=model.parameters(), lr = 0.001)"
   ]
  },
  {
   "cell_type": "code",
   "execution_count": null,
   "metadata": {},
   "outputs": [],
   "source": [
    "# training loop\n",
    "model.train()\n",
    "for epoch in range(10):\n",
    "    for batch_ix, (data, target) in enumerate(b_trainloader):\n",
    "        \n",
    "        # forward thru the model and compute loss\n",
    "        preds = model(data)\n",
    "        optimizer.zero_grad()\n",
    "        loss = F.cross_entropy(preds, target)\n",
    "\n",
    "        # backward pass\n",
    "        loss.backward()\n",
    "\n",
    "        cat = torch.argmax(preds, axis = 1)\n",
    "        acc = (cat == target).float().mean()\n",
    "\n",
    "        # update\n",
    "        optimizer.step()\n",
    "        print(f'epoch: {epoch}, batch: {batch_ix}, loss: {loss}, acc: {acc}')\n",
    "        \n",
    "# save the model\n",
    "torch.save(model.state_dict(), \"model.pt\")"
   ]
  },
  {
   "cell_type": "code",
   "execution_count": 41,
   "metadata": {},
   "outputs": [
    {
     "data": {
      "text/plain": [
       "tensor(3)"
      ]
     },
     "execution_count": 41,
     "metadata": {},
     "output_type": "execute_result"
    },
    {
     "data": {
      "image/png": "[encoded data removed]",
      "text/plain": [
       "<Figure size 432x288 with 1 Axes>"
      ]
     },
     "metadata": {
      "needs_background": "light"
     },
     "output_type": "display_data"
    }
   ],
   "source": [
    "# test out model\n",
    "model.eval()\n",
    "ix = torch.randint(low=0, high=len(b_testset), size=(1,)).item()\n",
    "test = b_trainset[ix][0]\n",
    "plt.imshow(test.squeeze(), cmap='gray')\n",
    "torch.argmax(model(test))"
   ]
  },
  {
   "cell_type": "code",
   "execution_count": 42,
   "metadata": {},
   "outputs": [],
   "source": [
    "# save the model\n",
    "torch.save(model.state_dict(), \"model.pt\")"
   ]
  }
 ],
 "metadata": {
  "kernelspec": {
   "display_name": "Python 3.8.10 64-bit",
   "language": "python",
   "name": "python3"
  },
  "language_info": {
   "codemirror_mode": {
    "name": "ipython",
    "version": 3
   },
   "file_extension": ".py",
   "mimetype": "text/x-python",
   "name": "python",
   "nbconvert_exporter": "python",
   "pygments_lexer": "ipython3",
   "version": "3.8.10"
  },
  "orig_nbformat": 4,
  "vscode": {
   "interpreter": {
    "hash": "916dbcbb3f70747c44a77c7bcd40155683ae19c65e1c03b4aa3499c5328201f1"
   }
  }
 },
 "nbformat": 4,
 "nbformat_minor": 2
}
